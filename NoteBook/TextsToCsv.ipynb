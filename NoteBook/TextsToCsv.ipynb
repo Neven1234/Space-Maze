{
  "nbformat": 4,
  "nbformat_minor": 0,
  "metadata": {
    "colab": {
      "provenance": []
    },
    "kernelspec": {
      "name": "python3",
      "display_name": "Python 3"
    },
    "language_info": {
      "name": "python"
    }
  },
  "cells": [
    {
      "cell_type": "code",
      "execution_count": null,
      "metadata": {
        "id": "_UapYp3ZkKEC"
      },
      "outputs": [],
      "source": [
        "import numpy as np\n",
        "import pandas as pd\n",
        "import matplotlib.pyplot as plt\n",
        "import gdown\n",
        "import os\n",
        "import re"
      ]
    },
    {
      "cell_type": "code",
      "source": [
        "data_url = \"https://drive.google.com/file/d/1-v02Ll1rRkc_GG9h3I1-WSYCI_8A4O6w/view?usp=sharing\"\n",
        "gdown.download(data_url, fuzzy=True)"
      ],
      "metadata": {
        "colab": {
          "base_uri": "https://localhost:8080/",
          "height": 105
        },
        "id": "gYcWxxS7kStW",
        "outputId": "9cd2c983-0e1b-4672-f5f9-8af24b8c1f02"
      },
      "execution_count": null,
      "outputs": [
        {
          "output_type": "stream",
          "name": "stderr",
          "text": [
            "Downloading...\n",
            "From: https://drive.google.com/uc?id=1-v02Ll1rRkc_GG9h3I1-WSYCI_8A4O6w\n",
            "To: /content/class.rar\n",
            "100%|██████████| 95.1k/95.1k [00:00<00:00, 78.1MB/s]\n"
          ]
        },
        {
          "output_type": "execute_result",
          "data": {
            "text/plain": [
              "'class.rar'"
            ],
            "application/vnd.google.colaboratory.intrinsic+json": {
              "type": "string"
            }
          },
          "metadata": {},
          "execution_count": 59
        }
      ]
    },
    {
      "cell_type": "code",
      "source": [
        "CLASS_MAP = {\"yukari\": \"Up\",\n",
        "             \"asagi\": \"Down\",\n",
        "             \"sag\": \"Right\",\n",
        "             \"sol\": \"Left\",\n",
        "             \"kirp\": \"Blink\"}"
      ],
      "metadata": {
        "id": "mh3xo6A-kb8i"
      },
      "execution_count": null,
      "outputs": []
    },
    {
      "cell_type": "code",
      "source": [
        "!unrar e class.rar data/"
      ],
      "metadata": {
        "id": "RjJSvpDBkpCg",
        "outputId": "b4cf09df-03e5-47b3-cbde-c90428c35831",
        "colab": {
          "base_uri": "https://localhost:8080/"
        }
      },
      "execution_count": null,
      "outputs": [
        {
          "output_type": "stream",
          "name": "stdout",
          "text": [
            "\n",
            "UNRAR 5.61 beta 1 freeware      Copyright (c) 1993-2018 Alexander Roshal\n",
            "\n",
            "\n",
            "Extracting from class.rar\n",
            "\n",
            "\n",
            "Would you like to replace the existing file data/asagi10h.txt\n",
            "  1241 bytes, modified on 2008-12-30 07:24\n",
            "with a new one\n",
            "  1241 bytes, modified on 2008-12-30 07:24\n",
            "\n",
            "[Y]es, [N]o, [A]ll, n[E]ver, [R]ename, [Q]uit \n",
            "User break\n",
            "\n",
            "User break\n"
          ]
        }
      ]
    },
    {
      "cell_type": "code",
      "source": [
        "re.search(\"\\d+\", \"yukarı17h.txt\")[0]"
      ],
      "metadata": {
        "colab": {
          "base_uri": "https://localhost:8080/",
          "height": 35
        },
        "id": "hTWCif7mm_K6",
        "outputId": "4d24357f-31f3-472f-9b88-cc390b6b9b25"
      },
      "execution_count": null,
      "outputs": [
        {
          "output_type": "execute_result",
          "data": {
            "text/plain": [
              "'17'"
            ],
            "application/vnd.google.colaboratory.intrinsic+json": {
              "type": "string"
            }
          },
          "metadata": {},
          "execution_count": 61
        }
      ]
    },
    {
      "cell_type": "code",
      "source": [
        "files = sorted(os.listdir(\"data\"))"
      ],
      "metadata": {
        "id": "rjfWJRG6ktEU"
      },
      "execution_count": null,
      "outputs": []
    },
    {
      "cell_type": "code",
      "source": [
        "len(files)"
      ],
      "metadata": {
        "colab": {
          "base_uri": "https://localhost:8080/"
        },
        "id": "bpWcWklKuChE",
        "outputId": "0a149941-1202-4c61-8e44-fafc2d01c5e4"
      },
      "execution_count": null,
      "outputs": [
        {
          "output_type": "execute_result",
          "data": {
            "text/plain": [
              "278"
            ]
          },
          "metadata": {},
          "execution_count": 63
        }
      ]
    },
    {
      "cell_type": "code",
      "source": [
        "labels = []\n",
        "ids = []\n",
        "polarities = []\n",
        "data = np.ones(251)\n",
        "for file_name in files:\n",
        "  label = re.search(\"[a-zA-Zöı]+\", file_name)[0]\n",
        "  if label.lower() not in [\"yukari\", \"asagi\", \"sag\", \"sol\", \"kirp\"]:\n",
        "    print(\"Discarding file: \" + file_name)\n",
        "    continue\n",
        "\n",
        "  id = re.search(\"\\d+\", file_name)[0]\n",
        "  if len(str(id)) > 2:\n",
        "    print(\"Discarding file: \" + file_name)\n",
        "    continue\n",
        "\n",
        "\n",
        "  polarity = file_name[-5]\n",
        "  if polarity not in [\"h\", \"v\"]:\n",
        "    print(\"Discarding file: \" + file_name)\n",
        "    continue\n",
        "\n",
        "  samples = np.loadtxt(\"data/\" + file_name)\n",
        "  data = np.vstack((data, samples))\n",
        "\n",
        "  labels.append(label)\n",
        "  ids.append(id)\n",
        "  polarities.append(polarity)"
      ],
      "metadata": {
        "colab": {
          "base_uri": "https://localhost:8080/"
        },
        "id": "ljk_p_RFlRp_",
        "outputId": "02f9e739-e252-465d-e1da-110cae41db68"
      },
      "execution_count": null,
      "outputs": [
        {
          "output_type": "stream",
          "name": "stdout",
          "text": [
            "Discarding file: Edit2.txt\n",
            "Discarding file: Edit2h.txt\n",
            "Discarding file: Edit2v.txt\n",
            "Discarding file: kayit.txt\n",
            "Discarding file: kirp111h.txt\n",
            "Discarding file: serkanh.txt\n",
            "Discarding file: serkanv.txt\n",
            "Discarding file: yukarih.txt\n",
            "Discarding file: yukarı10h.txt\n",
            "Discarding file: yukarı11h.txt\n",
            "Discarding file: yukarı12h.txt\n",
            "Discarding file: yukarı13h.txt\n",
            "Discarding file: yukarı14h.txt\n",
            "Discarding file: yukarı15h.txt\n",
            "Discarding file: yukarı16h.txt\n",
            "Discarding file: yukarı17h.txt\n",
            "Discarding file: yukarı18h.txt\n",
            "Discarding file: yukarı19h.txt\n",
            "Discarding file: yukarı1h.txt\n",
            "Discarding file: yukarı20h.txt\n",
            "Discarding file: yukarı2h.txt\n",
            "Discarding file: yukarı3h.txt\n",
            "Discarding file: yukarı4h.txt\n",
            "Discarding file: yukarı5h.txt\n",
            "Discarding file: yukarı6h.txt\n",
            "Discarding file: yukarı7h.txt\n",
            "Discarding file: yukarı8h.txt\n",
            "Discarding file: yukarı9h.txt\n",
            "Discarding file: yukarıh.txt\n",
            "Discarding file: örnek1.txt\n",
            "Discarding file: örnek10h.txt\n",
            "Discarding file: örnek11h.txt\n",
            "Discarding file: örnek12h.txt\n",
            "Discarding file: örnek13h.txt\n",
            "Discarding file: örnek14h.txt\n",
            "Discarding file: örnek15h.txt\n",
            "Discarding file: örnek16h.txt\n",
            "Discarding file: örnek17h.txt\n",
            "Discarding file: örnek18h.txt\n",
            "Discarding file: örnek19h.txt\n",
            "Discarding file: örnek1h.txt\n",
            "Discarding file: örnek2.txt\n",
            "Discarding file: örnek20h.txt\n",
            "Discarding file: örnek21h.txt\n",
            "Discarding file: örnek22h.txt\n",
            "Discarding file: örnek23h.txt\n",
            "Discarding file: örnek24h.txt\n",
            "Discarding file: örnek25h.txt\n",
            "Discarding file: örnek26h.txt\n",
            "Discarding file: örnek27h.txt\n",
            "Discarding file: örnek28h.txt\n",
            "Discarding file: örnek29h.txt\n",
            "Discarding file: örnek2h.txt\n",
            "Discarding file: örnek3.txt\n",
            "Discarding file: örnek30h.txt\n",
            "Discarding file: örnek31h.txt\n",
            "Discarding file: örnek32h.txt\n",
            "Discarding file: örnek33h.txt\n",
            "Discarding file: örnek34h.txt\n",
            "Discarding file: örnek35h.txt\n",
            "Discarding file: örnek36h.txt\n",
            "Discarding file: örnek37h.txt\n",
            "Discarding file: örnek38h.txt\n",
            "Discarding file: örnek39h.txt\n",
            "Discarding file: örnek3h.txt\n",
            "Discarding file: örnek4.txt\n",
            "Discarding file: örnek40h.txt\n",
            "Discarding file: örnek4h.txt\n",
            "Discarding file: örnek5.txt\n",
            "Discarding file: örnek5h.txt\n",
            "Discarding file: örnek6.txt\n",
            "Discarding file: örnek6h.txt\n",
            "Discarding file: örnek7.txt\n",
            "Discarding file: örnek7h.txt\n",
            "Discarding file: örnek8.txt\n",
            "Discarding file: örnek8h.txt\n",
            "Discarding file: örnek9.txt\n",
            "Discarding file: örnek9h.txt\n"
          ]
        }
      ]
    },
    {
      "cell_type": "code",
      "source": [
        "df = pd.DataFrame({\"id\": ids,\n",
        "              \"label\": labels,\n",
        "              \"polarity\": polarities})"
      ],
      "metadata": {
        "id": "iVdf4cTjtT4-"
      },
      "execution_count": null,
      "outputs": []
    },
    {
      "cell_type": "code",
      "source": [
        "samples = pd.DataFrame(data[1:, :])"
      ],
      "metadata": {
        "id": "Q5-daY4evuzv"
      },
      "execution_count": null,
      "outputs": []
    },
    {
      "cell_type": "code",
      "source": [
        "dataset = pd.concat([df,samples], axis=1)"
      ],
      "metadata": {
        "id": "wEKhWrbht-ei"
      },
      "execution_count": null,
      "outputs": []
    },
    {
      "cell_type": "code",
      "source": [
        "dataset['polarity'].value_counts()"
      ],
      "metadata": {
        "colab": {
          "base_uri": "https://localhost:8080/"
        },
        "id": "_7Vi6bjBv1W1",
        "outputId": "54d1722f-db57-41d1-cb1d-7005c5d20c91"
      },
      "execution_count": null,
      "outputs": [
        {
          "output_type": "execute_result",
          "data": {
            "text/plain": [
              "h    100\n",
              "v    100\n",
              "Name: polarity, dtype: int64"
            ]
          },
          "metadata": {},
          "execution_count": 68
        }
      ]
    },
    {
      "cell_type": "code",
      "source": [
        "dataset['label'].value_counts()"
      ],
      "metadata": {
        "colab": {
          "base_uri": "https://localhost:8080/"
        },
        "id": "DI7-gUr8wxlY",
        "outputId": "9bad3ba9-03b6-4c9a-e177-b9de58887a8f"
      },
      "execution_count": null,
      "outputs": [
        {
          "output_type": "execute_result",
          "data": {
            "text/plain": [
              "asagi     40\n",
              "kirp      40\n",
              "sag       40\n",
              "sol       40\n",
              "yukari    40\n",
              "Name: label, dtype: int64"
            ]
          },
          "metadata": {},
          "execution_count": 69
        }
      ]
    },
    {
      "cell_type": "code",
      "source": [
        "dataset['label'].replace({\"yukarı\": \"yukari\"}, inplace=True)"
      ],
      "metadata": {
        "id": "rV6aIsYzxIPO"
      },
      "execution_count": null,
      "outputs": []
    },
    {
      "cell_type": "code",
      "source": [
        "dataset['label'].value_counts()"
      ],
      "metadata": {
        "colab": {
          "base_uri": "https://localhost:8080/"
        },
        "id": "kkJ1-tpBxbPe",
        "outputId": "d048d64a-ad1d-4d88-b9fb-e1479285a4c6"
      },
      "execution_count": null,
      "outputs": [
        {
          "output_type": "execute_result",
          "data": {
            "text/plain": [
              "asagi     40\n",
              "kirp      40\n",
              "sag       40\n",
              "sol       40\n",
              "yukari    40\n",
              "Name: label, dtype: int64"
            ]
          },
          "metadata": {},
          "execution_count": 71
        }
      ]
    },
    {
      "cell_type": "code",
      "source": [
        "dataset['label'].replace(CLASS_MAP, inplace=True)"
      ],
      "metadata": {
        "id": "HRtjK746yKqB"
      },
      "execution_count": null,
      "outputs": []
    },
    {
      "cell_type": "code",
      "source": [
        "dataset['label'].value_counts()"
      ],
      "metadata": {
        "colab": {
          "base_uri": "https://localhost:8080/"
        },
        "id": "eULx2k_AyOjZ",
        "outputId": "1bcb1862-a901-4132-a6a9-aa9051ecbc05"
      },
      "execution_count": null,
      "outputs": [
        {
          "output_type": "execute_result",
          "data": {
            "text/plain": [
              "Down     40\n",
              "Blink    40\n",
              "Right    40\n",
              "Left     40\n",
              "Up       40\n",
              "Name: label, dtype: int64"
            ]
          },
          "metadata": {},
          "execution_count": 83
        }
      ]
    },
    {
      "cell_type": "code",
      "source": [
        "dataset"
      ],
      "metadata": {
        "colab": {
          "base_uri": "https://localhost:8080/",
          "height": 424
        },
        "id": "cr1P-fCqxfTJ",
        "outputId": "4e68ed14-963c-450b-b6c1-df49b6de79f3"
      },
      "execution_count": null,
      "outputs": [
        {
          "output_type": "execute_result",
          "data": {
            "text/plain": [
              "     id label polarity      0      1      2      3      4      5      6  ...  \\\n",
              "0    10  Down        h  123.0  126.0  134.0  131.0  125.0  131.0  130.0  ...   \n",
              "1    10  Down        v  123.0  122.0  127.0  130.0  123.0  123.0  127.0  ...   \n",
              "2    11  Down        h  127.0  135.0  130.0  135.0  129.0  127.0  133.0  ...   \n",
              "3    11  Down        v  120.0  132.0  120.0  127.0  126.0  125.0  120.0  ...   \n",
              "4    12  Down        h  133.0  137.0  134.0  132.0  137.0  136.0  135.0  ...   \n",
              "..   ..   ...      ...    ...    ...    ...    ...    ...    ...    ...  ...   \n",
              "195   7    Up        v  126.0  131.0  129.0  130.0  130.0  131.0  130.0  ...   \n",
              "196   8    Up        h  146.0  145.0  144.0  147.0  143.0  143.0  146.0  ...   \n",
              "197   8    Up        v  127.0  119.0  125.0  125.0  126.0  126.0  121.0  ...   \n",
              "198   9    Up        h  147.0  141.0  140.0  140.0  145.0  137.0  145.0  ...   \n",
              "199   9    Up        v  129.0  122.0  130.0  130.0  122.0  124.0  126.0  ...   \n",
              "\n",
              "       241    242    243    244    245    246    247    248    249    250  \n",
              "0    149.0  143.0  139.0  143.0  141.0  139.0  138.0  142.0  136.0  137.0  \n",
              "1    137.0  134.0  133.0  130.0  136.0  135.0  130.0  139.0  136.0  129.0  \n",
              "2    135.0  143.0  140.0  139.0  144.0  142.0  139.0  139.0  143.0  134.0  \n",
              "3    121.0  128.0  137.0  131.0  124.0  133.0  129.0  124.0  131.0  130.0  \n",
              "4    152.0  143.0  141.0  148.0  148.0  144.0  149.0  147.0  150.0  150.0  \n",
              "..     ...    ...    ...    ...    ...    ...    ...    ...    ...    ...  \n",
              "195  143.0  140.0  139.0  142.0  148.0  140.0  139.0  143.0  146.0  124.0  \n",
              "196  125.0  135.0  131.0  129.0  128.0  132.0  132.0  126.0  133.0  153.0  \n",
              "197  135.0  139.0  145.0  144.0  140.0  141.0  140.0  136.0  142.0  133.0  \n",
              "198  143.0  133.0  142.0  138.0  141.0  138.0  145.0  138.0  142.0  144.0  \n",
              "199  145.0  146.0  139.0  142.0  144.0  146.0  137.0  142.0  145.0  129.0  \n",
              "\n",
              "[200 rows x 254 columns]"
            ],
            "text/html": [
              "\n",
              "  <div id=\"df-2560dd0c-c11c-4e7f-89ed-6259d6008b16\">\n",
              "    <div class=\"colab-df-container\">\n",
              "      <div>\n",
              "<style scoped>\n",
              "    .dataframe tbody tr th:only-of-type {\n",
              "        vertical-align: middle;\n",
              "    }\n",
              "\n",
              "    .dataframe tbody tr th {\n",
              "        vertical-align: top;\n",
              "    }\n",
              "\n",
              "    .dataframe thead th {\n",
              "        text-align: right;\n",
              "    }\n",
              "</style>\n",
              "<table border=\"1\" class=\"dataframe\">\n",
              "  <thead>\n",
              "    <tr style=\"text-align: right;\">\n",
              "      <th></th>\n",
              "      <th>id</th>\n",
              "      <th>label</th>\n",
              "      <th>polarity</th>\n",
              "      <th>0</th>\n",
              "      <th>1</th>\n",
              "      <th>2</th>\n",
              "      <th>3</th>\n",
              "      <th>4</th>\n",
              "      <th>5</th>\n",
              "      <th>6</th>\n",
              "      <th>...</th>\n",
              "      <th>241</th>\n",
              "      <th>242</th>\n",
              "      <th>243</th>\n",
              "      <th>244</th>\n",
              "      <th>245</th>\n",
              "      <th>246</th>\n",
              "      <th>247</th>\n",
              "      <th>248</th>\n",
              "      <th>249</th>\n",
              "      <th>250</th>\n",
              "    </tr>\n",
              "  </thead>\n",
              "  <tbody>\n",
              "    <tr>\n",
              "      <th>0</th>\n",
              "      <td>10</td>\n",
              "      <td>Down</td>\n",
              "      <td>h</td>\n",
              "      <td>123.0</td>\n",
              "      <td>126.0</td>\n",
              "      <td>134.0</td>\n",
              "      <td>131.0</td>\n",
              "      <td>125.0</td>\n",
              "      <td>131.0</td>\n",
              "      <td>130.0</td>\n",
              "      <td>...</td>\n",
              "      <td>149.0</td>\n",
              "      <td>143.0</td>\n",
              "      <td>139.0</td>\n",
              "      <td>143.0</td>\n",
              "      <td>141.0</td>\n",
              "      <td>139.0</td>\n",
              "      <td>138.0</td>\n",
              "      <td>142.0</td>\n",
              "      <td>136.0</td>\n",
              "      <td>137.0</td>\n",
              "    </tr>\n",
              "    <tr>\n",
              "      <th>1</th>\n",
              "      <td>10</td>\n",
              "      <td>Down</td>\n",
              "      <td>v</td>\n",
              "      <td>123.0</td>\n",
              "      <td>122.0</td>\n",
              "      <td>127.0</td>\n",
              "      <td>130.0</td>\n",
              "      <td>123.0</td>\n",
              "      <td>123.0</td>\n",
              "      <td>127.0</td>\n",
              "      <td>...</td>\n",
              "      <td>137.0</td>\n",
              "      <td>134.0</td>\n",
              "      <td>133.0</td>\n",
              "      <td>130.0</td>\n",
              "      <td>136.0</td>\n",
              "      <td>135.0</td>\n",
              "      <td>130.0</td>\n",
              "      <td>139.0</td>\n",
              "      <td>136.0</td>\n",
              "      <td>129.0</td>\n",
              "    </tr>\n",
              "    <tr>\n",
              "      <th>2</th>\n",
              "      <td>11</td>\n",
              "      <td>Down</td>\n",
              "      <td>h</td>\n",
              "      <td>127.0</td>\n",
              "      <td>135.0</td>\n",
              "      <td>130.0</td>\n",
              "      <td>135.0</td>\n",
              "      <td>129.0</td>\n",
              "      <td>127.0</td>\n",
              "      <td>133.0</td>\n",
              "      <td>...</td>\n",
              "      <td>135.0</td>\n",
              "      <td>143.0</td>\n",
              "      <td>140.0</td>\n",
              "      <td>139.0</td>\n",
              "      <td>144.0</td>\n",
              "      <td>142.0</td>\n",
              "      <td>139.0</td>\n",
              "      <td>139.0</td>\n",
              "      <td>143.0</td>\n",
              "      <td>134.0</td>\n",
              "    </tr>\n",
              "    <tr>\n",
              "      <th>3</th>\n",
              "      <td>11</td>\n",
              "      <td>Down</td>\n",
              "      <td>v</td>\n",
              "      <td>120.0</td>\n",
              "      <td>132.0</td>\n",
              "      <td>120.0</td>\n",
              "      <td>127.0</td>\n",
              "      <td>126.0</td>\n",
              "      <td>125.0</td>\n",
              "      <td>120.0</td>\n",
              "      <td>...</td>\n",
              "      <td>121.0</td>\n",
              "      <td>128.0</td>\n",
              "      <td>137.0</td>\n",
              "      <td>131.0</td>\n",
              "      <td>124.0</td>\n",
              "      <td>133.0</td>\n",
              "      <td>129.0</td>\n",
              "      <td>124.0</td>\n",
              "      <td>131.0</td>\n",
              "      <td>130.0</td>\n",
              "    </tr>\n",
              "    <tr>\n",
              "      <th>4</th>\n",
              "      <td>12</td>\n",
              "      <td>Down</td>\n",
              "      <td>h</td>\n",
              "      <td>133.0</td>\n",
              "      <td>137.0</td>\n",
              "      <td>134.0</td>\n",
              "      <td>132.0</td>\n",
              "      <td>137.0</td>\n",
              "      <td>136.0</td>\n",
              "      <td>135.0</td>\n",
              "      <td>...</td>\n",
              "      <td>152.0</td>\n",
              "      <td>143.0</td>\n",
              "      <td>141.0</td>\n",
              "      <td>148.0</td>\n",
              "      <td>148.0</td>\n",
              "      <td>144.0</td>\n",
              "      <td>149.0</td>\n",
              "      <td>147.0</td>\n",
              "      <td>150.0</td>\n",
              "      <td>150.0</td>\n",
              "    </tr>\n",
              "    <tr>\n",
              "      <th>...</th>\n",
              "      <td>...</td>\n",
              "      <td>...</td>\n",
              "      <td>...</td>\n",
              "      <td>...</td>\n",
              "      <td>...</td>\n",
              "      <td>...</td>\n",
              "      <td>...</td>\n",
              "      <td>...</td>\n",
              "      <td>...</td>\n",
              "      <td>...</td>\n",
              "      <td>...</td>\n",
              "      <td>...</td>\n",
              "      <td>...</td>\n",
              "      <td>...</td>\n",
              "      <td>...</td>\n",
              "      <td>...</td>\n",
              "      <td>...</td>\n",
              "      <td>...</td>\n",
              "      <td>...</td>\n",
              "      <td>...</td>\n",
              "      <td>...</td>\n",
              "    </tr>\n",
              "    <tr>\n",
              "      <th>195</th>\n",
              "      <td>7</td>\n",
              "      <td>Up</td>\n",
              "      <td>v</td>\n",
              "      <td>126.0</td>\n",
              "      <td>131.0</td>\n",
              "      <td>129.0</td>\n",
              "      <td>130.0</td>\n",
              "      <td>130.0</td>\n",
              "      <td>131.0</td>\n",
              "      <td>130.0</td>\n",
              "      <td>...</td>\n",
              "      <td>143.0</td>\n",
              "      <td>140.0</td>\n",
              "      <td>139.0</td>\n",
              "      <td>142.0</td>\n",
              "      <td>148.0</td>\n",
              "      <td>140.0</td>\n",
              "      <td>139.0</td>\n",
              "      <td>143.0</td>\n",
              "      <td>146.0</td>\n",
              "      <td>124.0</td>\n",
              "    </tr>\n",
              "    <tr>\n",
              "      <th>196</th>\n",
              "      <td>8</td>\n",
              "      <td>Up</td>\n",
              "      <td>h</td>\n",
              "      <td>146.0</td>\n",
              "      <td>145.0</td>\n",
              "      <td>144.0</td>\n",
              "      <td>147.0</td>\n",
              "      <td>143.0</td>\n",
              "      <td>143.0</td>\n",
              "      <td>146.0</td>\n",
              "      <td>...</td>\n",
              "      <td>125.0</td>\n",
              "      <td>135.0</td>\n",
              "      <td>131.0</td>\n",
              "      <td>129.0</td>\n",
              "      <td>128.0</td>\n",
              "      <td>132.0</td>\n",
              "      <td>132.0</td>\n",
              "      <td>126.0</td>\n",
              "      <td>133.0</td>\n",
              "      <td>153.0</td>\n",
              "    </tr>\n",
              "    <tr>\n",
              "      <th>197</th>\n",
              "      <td>8</td>\n",
              "      <td>Up</td>\n",
              "      <td>v</td>\n",
              "      <td>127.0</td>\n",
              "      <td>119.0</td>\n",
              "      <td>125.0</td>\n",
              "      <td>125.0</td>\n",
              "      <td>126.0</td>\n",
              "      <td>126.0</td>\n",
              "      <td>121.0</td>\n",
              "      <td>...</td>\n",
              "      <td>135.0</td>\n",
              "      <td>139.0</td>\n",
              "      <td>145.0</td>\n",
              "      <td>144.0</td>\n",
              "      <td>140.0</td>\n",
              "      <td>141.0</td>\n",
              "      <td>140.0</td>\n",
              "      <td>136.0</td>\n",
              "      <td>142.0</td>\n",
              "      <td>133.0</td>\n",
              "    </tr>\n",
              "    <tr>\n",
              "      <th>198</th>\n",
              "      <td>9</td>\n",
              "      <td>Up</td>\n",
              "      <td>h</td>\n",
              "      <td>147.0</td>\n",
              "      <td>141.0</td>\n",
              "      <td>140.0</td>\n",
              "      <td>140.0</td>\n",
              "      <td>145.0</td>\n",
              "      <td>137.0</td>\n",
              "      <td>145.0</td>\n",
              "      <td>...</td>\n",
              "      <td>143.0</td>\n",
              "      <td>133.0</td>\n",
              "      <td>142.0</td>\n",
              "      <td>138.0</td>\n",
              "      <td>141.0</td>\n",
              "      <td>138.0</td>\n",
              "      <td>145.0</td>\n",
              "      <td>138.0</td>\n",
              "      <td>142.0</td>\n",
              "      <td>144.0</td>\n",
              "    </tr>\n",
              "    <tr>\n",
              "      <th>199</th>\n",
              "      <td>9</td>\n",
              "      <td>Up</td>\n",
              "      <td>v</td>\n",
              "      <td>129.0</td>\n",
              "      <td>122.0</td>\n",
              "      <td>130.0</td>\n",
              "      <td>130.0</td>\n",
              "      <td>122.0</td>\n",
              "      <td>124.0</td>\n",
              "      <td>126.0</td>\n",
              "      <td>...</td>\n",
              "      <td>145.0</td>\n",
              "      <td>146.0</td>\n",
              "      <td>139.0</td>\n",
              "      <td>142.0</td>\n",
              "      <td>144.0</td>\n",
              "      <td>146.0</td>\n",
              "      <td>137.0</td>\n",
              "      <td>142.0</td>\n",
              "      <td>145.0</td>\n",
              "      <td>129.0</td>\n",
              "    </tr>\n",
              "  </tbody>\n",
              "</table>\n",
              "<p>200 rows × 254 columns</p>\n",
              "</div>\n",
              "      <button class=\"colab-df-convert\" onclick=\"convertToInteractive('df-2560dd0c-c11c-4e7f-89ed-6259d6008b16')\"\n",
              "              title=\"Convert this dataframe to an interactive table.\"\n",
              "              style=\"display:none;\">\n",
              "        \n",
              "  <svg xmlns=\"http://www.w3.org/2000/svg\" height=\"24px\"viewBox=\"0 0 24 24\"\n",
              "       width=\"24px\">\n",
              "    <path d=\"M0 0h24v24H0V0z\" fill=\"none\"/>\n",
              "    <path d=\"M18.56 5.44l.94 2.06.94-2.06 2.06-.94-2.06-.94-.94-2.06-.94 2.06-2.06.94zm-11 1L8.5 8.5l.94-2.06 2.06-.94-2.06-.94L8.5 2.5l-.94 2.06-2.06.94zm10 10l.94 2.06.94-2.06 2.06-.94-2.06-.94-.94-2.06-.94 2.06-2.06.94z\"/><path d=\"M17.41 7.96l-1.37-1.37c-.4-.4-.92-.59-1.43-.59-.52 0-1.04.2-1.43.59L10.3 9.45l-7.72 7.72c-.78.78-.78 2.05 0 2.83L4 21.41c.39.39.9.59 1.41.59.51 0 1.02-.2 1.41-.59l7.78-7.78 2.81-2.81c.8-.78.8-2.07 0-2.86zM5.41 20L4 18.59l7.72-7.72 1.47 1.35L5.41 20z\"/>\n",
              "  </svg>\n",
              "      </button>\n",
              "      \n",
              "  <style>\n",
              "    .colab-df-container {\n",
              "      display:flex;\n",
              "      flex-wrap:wrap;\n",
              "      gap: 12px;\n",
              "    }\n",
              "\n",
              "    .colab-df-convert {\n",
              "      background-color: #E8F0FE;\n",
              "      border: none;\n",
              "      border-radius: 50%;\n",
              "      cursor: pointer;\n",
              "      display: none;\n",
              "      fill: #1967D2;\n",
              "      height: 32px;\n",
              "      padding: 0 0 0 0;\n",
              "      width: 32px;\n",
              "    }\n",
              "\n",
              "    .colab-df-convert:hover {\n",
              "      background-color: #E2EBFA;\n",
              "      box-shadow: 0px 1px 2px rgba(60, 64, 67, 0.3), 0px 1px 3px 1px rgba(60, 64, 67, 0.15);\n",
              "      fill: #174EA6;\n",
              "    }\n",
              "\n",
              "    [theme=dark] .colab-df-convert {\n",
              "      background-color: #3B4455;\n",
              "      fill: #D2E3FC;\n",
              "    }\n",
              "\n",
              "    [theme=dark] .colab-df-convert:hover {\n",
              "      background-color: #434B5C;\n",
              "      box-shadow: 0px 1px 3px 1px rgba(0, 0, 0, 0.15);\n",
              "      filter: drop-shadow(0px 1px 2px rgba(0, 0, 0, 0.3));\n",
              "      fill: #FFFFFF;\n",
              "    }\n",
              "  </style>\n",
              "\n",
              "      <script>\n",
              "        const buttonEl =\n",
              "          document.querySelector('#df-2560dd0c-c11c-4e7f-89ed-6259d6008b16 button.colab-df-convert');\n",
              "        buttonEl.style.display =\n",
              "          google.colab.kernel.accessAllowed ? 'block' : 'none';\n",
              "\n",
              "        async function convertToInteractive(key) {\n",
              "          const element = document.querySelector('#df-2560dd0c-c11c-4e7f-89ed-6259d6008b16');\n",
              "          const dataTable =\n",
              "            await google.colab.kernel.invokeFunction('convertToInteractive',\n",
              "                                                     [key], {});\n",
              "          if (!dataTable) return;\n",
              "\n",
              "          const docLinkHtml = 'Like what you see? Visit the ' +\n",
              "            '<a target=\"_blank\" href=https://colab.research.google.com/notebooks/data_table.ipynb>data table notebook</a>'\n",
              "            + ' to learn more about interactive tables.';\n",
              "          element.innerHTML = '';\n",
              "          dataTable['output_type'] = 'display_data';\n",
              "          await google.colab.output.renderOutput(dataTable, element);\n",
              "          const docLink = document.createElement('div');\n",
              "          docLink.innerHTML = docLinkHtml;\n",
              "          element.appendChild(docLink);\n",
              "        }\n",
              "      </script>\n",
              "    </div>\n",
              "  </div>\n",
              "  "
            ]
          },
          "metadata": {},
          "execution_count": 84
        }
      ]
    },
    {
      "cell_type": "code",
      "source": [
        "dataset.to_csv(\"EOG_dataset_2.csv\", encoding='utf-8-sig', index=False)"
      ],
      "metadata": {
        "id": "sAH8yiJpxqa1"
      },
      "execution_count": null,
      "outputs": []
    }
  ]
}